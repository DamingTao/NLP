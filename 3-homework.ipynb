{
 "cells": [
  {
   "cell_type": "markdown",
   "metadata": {},
   "source": [
    "## $loss = \\frac{1}{n}\\sum{|y_i - \\hat{y_i}|}$ 求导"
   ]
  },
  {
   "cell_type": "code",
   "execution_count": 10,
   "metadata": {},
   "outputs": [
    {
     "data": {
      "text/plain": [
       "array([[6.3200e-03, 1.8000e+01, 2.3100e+00, ..., 1.5300e+01, 3.9690e+02,\n",
       "        4.9800e+00],\n",
       "       [2.7310e-02, 0.0000e+00, 7.0700e+00, ..., 1.7800e+01, 3.9690e+02,\n",
       "        9.1400e+00],\n",
       "       [2.7290e-02, 0.0000e+00, 7.0700e+00, ..., 1.7800e+01, 3.9283e+02,\n",
       "        4.0300e+00],\n",
       "       ...,\n",
       "       [6.0760e-02, 0.0000e+00, 1.1930e+01, ..., 2.1000e+01, 3.9690e+02,\n",
       "        5.6400e+00],\n",
       "       [1.0959e-01, 0.0000e+00, 1.1930e+01, ..., 2.1000e+01, 3.9345e+02,\n",
       "        6.4800e+00],\n",
       "       [4.7410e-02, 0.0000e+00, 1.1930e+01, ..., 2.1000e+01, 3.9690e+02,\n",
       "        7.8800e+00]])"
      ]
     },
     "execution_count": 10,
     "metadata": {},
     "output_type": "execute_result"
    }
   ],
   "source": [
    "from sklearn.datasets import load_boston\n",
    "data = load_boston()\n",
    "X,y = data['data'], data['target']\n",
    "X"
   ]
  },
  {
   "cell_type": "code",
   "execution_count": 11,
   "metadata": {},
   "outputs": [
    {
     "data": {
      "image/png": "[encoded data removed]",
      "text/plain": [
       "<Figure size 432x288 with 1 Axes>"
      ]
     },
     "metadata": {},
     "output_type": "display_data"
    }
   ],
   "source": [
    "%matplotlib inline\n",
    "import matplotlib.pyplot as plt\n",
    "def draw_rm_and_price():\n",
    "    plt.scatter(X[:, 5], y)\n",
    "draw_rm_and_price()"
   ]
  },
  {
   "cell_type": "code",
   "execution_count": 12,
   "metadata": {
    "collapsed": true
   },
   "outputs": [],
   "source": [
    "def price(rm, k, b):\n",
    "    \"\"\"f(x) = k * x + b\"\"\"\n",
    "    return k * rm + b  "
   ]
  },
  {
   "cell_type": "markdown",
   "metadata": {},
   "source": [
    "现在定义这个损失函数 $loss = \\frac{1}{n}\\sum{|y_i - \\hat{y_i}|}$"
   ]
  },
  {
   "cell_type": "code",
   "execution_count": 13,
   "metadata": {
    "collapsed": true
   },
   "outputs": [],
   "source": [
    "def loss(y, y_hat): # to evaluate the performance \n",
    "    return sum(abs(y_i - y_hat_i) for y_i, y_hat_i in zip(list(y), list(y_hat))) / len(list(y))"
   ]
  },
  {
   "cell_type": "code",
   "execution_count": 14,
   "metadata": {
    "collapsed": true
   },
   "outputs": [],
   "source": [
    "def gradient(x,y, y_hat):\n",
    "    n = len(y)\n",
    "    dk = 0\n",
    "    db = 0\n",
    "    for x_i, y_i, y_hat_i in zip(list(x), list(y), list(y_hat)):\n",
    "        if y_i >= y_hat_i:\n",
    "            dk += -1*x_i\n",
    "            db += -1\n",
    "        else:\n",
    "            dk += x_i\n",
    "            db += 1\n",
    "    return dk/n,db/n\n",
    "    \n"
   ]
  },
  {
   "cell_type": "code",
   "execution_count": 15,
   "metadata": {
    "collapsed": true
   },
   "outputs": [],
   "source": [
    "X_rm = X[:, 5]"
   ]
  },
  {
   "cell_type": "code",
   "execution_count": 16,
   "metadata": {},
   "outputs": [
    {
     "name": "stdout",
     "output_type": "stream",
     "text": [
      "When time is : 0, get best_k: 75.4586196569214 best_b: 91.74531933096233, and the loss is: 543.4423489248393\n",
      "When time is : 50, get best_k: 75.1443879375536 best_b: 91.69531933096209, and the loss is: 541.4175174557039\n",
      "When time is : 100, get best_k: 74.8301562181858 best_b: 91.64531933096185, and the loss is: 539.392685986567\n",
      "When time is : 150, get best_k: 74.51592449881801 best_b: 91.59531933096162, and the loss is: 537.3678545174312\n",
      "When time is : 200, get best_k: 74.20169277945021 best_b: 91.54531933096138, and the loss is: 535.3430230482959\n",
      "When time is : 250, get best_k: 73.88746106008242 best_b: 91.49531933096114, and the loss is: 533.3181915791597\n",
      "When time is : 300, get best_k: 73.57322934071462 best_b: 91.4453193309609, and the loss is: 531.2933601100243\n",
      "When time is : 350, get best_k: 73.25899762134682 best_b: 91.39531933096066, and the loss is: 529.2685286408883\n",
      "When time is : 400, get best_k: 72.94476590197903 best_b: 91.34531933096042, and the loss is: 527.2436971717524\n",
      "When time is : 450, get best_k: 72.63053418261123 best_b: 91.29531933096018, and the loss is: 525.2188657026168\n",
      "When time is : 500, get best_k: 72.31630246324343 best_b: 91.24531933095994, and the loss is: 523.1940342334808\n",
      "When time is : 550, get best_k: 72.00207074387563 best_b: 91.1953193309597, and the loss is: 521.1692027643456\n",
      "When time is : 600, get best_k: 71.68783902450784 best_b: 91.14531933095947, and the loss is: 519.1443712952098\n",
      "When time is : 650, get best_k: 71.37360730514004 best_b: 91.09531933095923, and the loss is: 517.119539826074\n",
      "When time is : 700, get best_k: 71.05937558577224 best_b: 91.04531933095899, and the loss is: 515.0947083569383\n",
      "When time is : 750, get best_k: 70.74514386640445 best_b: 90.99531933095875, and the loss is: 513.0698768878024\n",
      "When time is : 800, get best_k: 70.43091214703665 best_b: 90.94531933095851, and the loss is: 511.045045418666\n",
      "When time is : 850, get best_k: 70.11668042766885 best_b: 90.89531933095827, and the loss is: 509.02021394953107\n",
      "When time is : 900, get best_k: 69.80244870830106 best_b: 90.84531933095803, and the loss is: 506.99538248039534\n",
      "When time is : 950, get best_k: 69.48821698893326 best_b: 90.7953193309578, and the loss is: 504.970551011259\n",
      "When time is : 1000, get best_k: 69.17398526956546 best_b: 90.74531933095756, and the loss is: 502.94571954212375\n",
      "When time is : 1050, get best_k: 68.85975355019767 best_b: 90.69531933095732, and the loss is: 500.9208880729874\n",
      "When time is : 1100, get best_k: 68.54552183082987 best_b: 90.64531933095708, and the loss is: 498.89605660385183\n",
      "When time is : 1150, get best_k: 68.23129011146207 best_b: 90.59531933095684, and the loss is: 496.87122513471627\n",
      "When time is : 1200, get best_k: 67.91705839209428 best_b: 90.5453193309566, and the loss is: 494.84639366558054\n",
      "When time is : 1250, get best_k: 67.60282667272648 best_b: 90.49531933095636, and the loss is: 492.821562196445\n",
      "When time is : 1300, get best_k: 67.28859495335868 best_b: 90.44531933095612, and the loss is: 490.7967307273091\n",
      "When time is : 1350, get best_k: 66.97436323399089 best_b: 90.39531933095589, and the loss is: 488.7718992581733\n",
      "When time is : 1400, get best_k: 66.66013151462309 best_b: 90.34531933095565, and the loss is: 486.7470677890374\n",
      "When time is : 1450, get best_k: 66.34589979525529 best_b: 90.29531933095541, and the loss is: 484.72223631990136\n",
      "When time is : 1500, get best_k: 66.0316680758875 best_b: 90.24531933095517, and the loss is: 482.69740485076557\n",
      "When time is : 1550, get best_k: 65.7174363565197 best_b: 90.19531933095493, and the loss is: 480.6725733816303\n",
      "When time is : 1600, get best_k: 65.4032046371519 best_b: 90.14531933095469, and the loss is: 478.64774191249427\n",
      "When time is : 1650, get best_k: 65.0889729177841 best_b: 90.09531933095445, and the loss is: 476.62291044335853\n",
      "When time is : 1700, get best_k: 64.77474119841631 best_b: 90.04531933095421, and the loss is: 474.59807897422274\n",
      "When time is : 1750, get best_k: 64.46050947904851 best_b: 89.99531933095398, and the loss is: 472.5732475050868\n",
      "When time is : 1800, get best_k: 64.14627775968071 best_b: 89.94531933095374, and the loss is: 470.5484160359508\n",
      "When time is : 1850, get best_k: 63.83204604031311 best_b: 89.8953193309535, and the loss is: 468.52358456681674\n",
      "When time is : 1900, get best_k: 63.51781432094567 best_b: 89.84531933095326, and the loss is: 466.49875309768305\n",
      "When time is : 1950, get best_k: 63.203582601578226 best_b: 89.79531933095302, and the loss is: 464.4739216285495\n",
      "When time is : 2000, get best_k: 62.889350882210785 best_b: 89.74531933095278, and the loss is: 462.44909015941613\n",
      "When time is : 2050, get best_k: 62.57511916284334 best_b: 89.69531933095254, and the loss is: 460.4242586902816\n",
      "When time is : 2100, get best_k: 62.2608874434759 best_b: 89.6453193309523, and the loss is: 458.39942722114955\n",
      "When time is : 2150, get best_k: 61.94665572410846 best_b: 89.59531933095207, and the loss is: 456.3745957520157\n",
      "When time is : 2200, get best_k: 61.63242400474102 best_b: 89.54531933095183, and the loss is: 454.3497642828819\n",
      "When time is : 2250, get best_k: 61.31819228537358 best_b: 89.49531933095159, and the loss is: 452.3249328137484\n",
      "When time is : 2300, get best_k: 61.003960566006135 best_b: 89.44531933095135, and the loss is: 450.30010134461503\n",
      "When time is : 2350, get best_k: 60.689728846638694 best_b: 89.39531933095111, and the loss is: 448.27526987548123\n",
      "When time is : 2400, get best_k: 60.37549712727125 best_b: 89.34531933095087, and the loss is: 446.25043840634766\n",
      "When time is : 2450, get best_k: 60.06126540790381 best_b: 89.29531933095063, and the loss is: 444.22560693721397\n",
      "When time is : 2500, get best_k: 59.74703368853637 best_b: 89.2453193309504, and the loss is: 442.2007754680806\n",
      "When time is : 2550, get best_k: 59.43280196916893 best_b: 89.19531933095016, and the loss is: 440.17594399894654\n",
      "When time is : 2600, get best_k: 59.118570249801486 best_b: 89.14531933094992, and the loss is: 438.1511125298141\n",
      "When time is : 2650, get best_k: 58.804338530434045 best_b: 89.09531933094968, and the loss is: 436.1262810606796\n",
      "When time is : 2700, get best_k: 58.4901068110666 best_b: 89.04531933094944, and the loss is: 434.1014495915467\n",
      "When time is : 2750, get best_k: 58.17587509169916 best_b: 88.9953193309492, and the loss is: 432.076618122413\n",
      "When time is : 2800, get best_k: 57.86164337233172 best_b: 88.94531933094896, and the loss is: 430.0517866532794\n",
      "When time is : 2850, get best_k: 57.54741165296428 best_b: 88.89531933094872, and the loss is: 428.026955184146\n",
      "When time is : 2900, get best_k: 57.23317993359684 best_b: 88.84531933094848, and the loss is: 426.0021237150125\n",
      "When time is : 2950, get best_k: 56.918948214229395 best_b: 88.79531933094825, and the loss is: 423.9772922458791\n",
      "When time is : 3000, get best_k: 56.604716494861954 best_b: 88.745319330948, and the loss is: 421.9524607767448\n",
      "When time is : 3050, get best_k: 56.29048477549451 best_b: 88.69531933094777, and the loss is: 419.9276293076115\n",
      "When time is : 3100, get best_k: 55.97625305612707 best_b: 88.64531933094753, and the loss is: 417.90279783847814\n",
      "When time is : 3150, get best_k: 55.66202133675963 best_b: 88.59531933094729, and the loss is: 415.8779663693447\n",
      "When time is : 3200, get best_k: 55.34778961739219 best_b: 88.54531933094705, and the loss is: 413.8531349002108\n",
      "When time is : 3250, get best_k: 55.033557898024746 best_b: 88.49531933094681, and the loss is: 411.8283034310774\n",
      "When time is : 3300, get best_k: 54.719326178657305 best_b: 88.44531933094657, and the loss is: 409.8034719619443\n",
      "When time is : 3350, get best_k: 54.40509445928986 best_b: 88.39531933094634, and the loss is: 407.7786404928103\n",
      "When time is : 3400, get best_k: 54.09086273992242 best_b: 88.3453193309461, and the loss is: 405.75380902367675\n",
      "When time is : 3450, get best_k: 53.77663102055498 best_b: 88.29531933094586, and the loss is: 403.7289775545433\n",
      "When time is : 3500, get best_k: 53.46239930118754 best_b: 88.24531933094562, and the loss is: 401.7041460854098\n",
      "When time is : 3550, get best_k: 53.1481675818201 best_b: 88.19531933094538, and the loss is: 399.6793146162769\n",
      "When time is : 3600, get best_k: 52.833935862452655 best_b: 88.14531933094514, and the loss is: 397.65448314714286\n",
      "When time is : 3650, get best_k: 52.519704143085214 best_b: 88.0953193309449, and the loss is: 395.62965167800905\n",
      "When time is : 3700, get best_k: 52.20547242371777 best_b: 88.04531933094466, and the loss is: 393.6048202088758\n"
     ]
    },
    {
     "name": "stdout",
     "output_type": "stream",
     "text": [
      "When time is : 3750, get best_k: 51.89124070435033 best_b: 87.99531933094443, and the loss is: 391.5799887397425\n",
      "When time is : 3800, get best_k: 51.57700898498289 best_b: 87.94531933094419, and the loss is: 389.5551572706085\n",
      "When time is : 3850, get best_k: 51.26277726561545 best_b: 87.89531933094395, and the loss is: 387.53032580147516\n",
      "When time is : 3900, get best_k: 50.948545546248006 best_b: 87.84531933094371, and the loss is: 385.50549433234147\n",
      "When time is : 3950, get best_k: 50.634313826880565 best_b: 87.79531933094347, and the loss is: 383.48066286320795\n",
      "When time is : 4000, get best_k: 50.32008210751312 best_b: 87.74531933094323, and the loss is: 381.45583139407455\n",
      "When time is : 4050, get best_k: 50.00585038814568 best_b: 87.695319330943, and the loss is: 379.43099992494086\n",
      "When time is : 4100, get best_k: 49.69161866877824 best_b: 87.64531933094275, and the loss is: 377.40616845580723\n",
      "When time is : 4150, get best_k: 49.3773869494108 best_b: 87.59531933094252, and the loss is: 375.38133698667366\n",
      "When time is : 4200, get best_k: 49.06315523004336 best_b: 87.54531933094228, and the loss is: 373.35650551754077\n",
      "When time is : 4250, get best_k: 48.748923510675915 best_b: 87.49531933094204, and the loss is: 371.33167404840617\n",
      "When time is : 4300, get best_k: 48.434691791308474 best_b: 87.4453193309418, and the loss is: 369.30684257927277\n",
      "When time is : 4350, get best_k: 48.12046007194103 best_b: 87.39531933094156, and the loss is: 367.2820111101398\n",
      "When time is : 4400, get best_k: 47.80622835257359 best_b: 87.34531933094132, and the loss is: 365.257179641006\n",
      "When time is : 4450, get best_k: 47.49199663320615 best_b: 87.29531933094108, and the loss is: 363.2323481718727\n",
      "When time is : 4500, get best_k: 47.17776491383871 best_b: 87.24531933094084, and the loss is: 361.2075167027393\n",
      "When time is : 4550, get best_k: 46.863533194471266 best_b: 87.1953193309406, and the loss is: 359.182685233606\n",
      "When time is : 4600, get best_k: 46.549301475103825 best_b: 87.14531933094037, and the loss is: 357.15785376447207\n",
      "When time is : 4650, get best_k: 46.23506975573638 best_b: 87.09531933094013, and the loss is: 355.1330222953388\n",
      "When time is : 4700, get best_k: 45.92083803636894 best_b: 87.04531933093989, and the loss is: 353.1081908262052\n",
      "When time is : 4750, get best_k: 45.6066063170015 best_b: 86.99531933093965, and the loss is: 351.08335935707174\n",
      "When time is : 4800, get best_k: 45.29237459763406 best_b: 86.94531933093941, and the loss is: 349.0585278879377\n",
      "When time is : 4850, get best_k: 44.97814287826662 best_b: 86.89531933093917, and the loss is: 347.0336964188044\n",
      "When time is : 4900, get best_k: 44.663911158899175 best_b: 86.84531933093893, and the loss is: 345.0088649496706\n",
      "When time is : 4950, get best_k: 44.349679439531734 best_b: 86.7953193309387, and the loss is: 342.9840334805375\n",
      "When time is : 5000, get best_k: 44.03544772016429 best_b: 86.74531933093846, and the loss is: 340.95920201140393\n",
      "When time is : 5050, get best_k: 43.72121600079685 best_b: 86.69531933093822, and the loss is: 338.9343705422701\n",
      "When time is : 5100, get best_k: 43.40698428142941 best_b: 86.64531933093798, and the loss is: 336.9095390731367\n",
      "When time is : 5150, get best_k: 43.09275256206197 best_b: 86.59531933093774, and the loss is: 334.8847076040029\n",
      "When time is : 5200, get best_k: 42.778520842694526 best_b: 86.5453193309375, and the loss is: 332.8598761348694\n",
      "When time is : 5250, get best_k: 42.464289123327084 best_b: 86.49531933093726, and the loss is: 330.83504466573595\n",
      "When time is : 5300, get best_k: 42.15005740395964 best_b: 86.44531933093702, and the loss is: 328.8102131966028\n",
      "When time is : 5350, get best_k: 41.8358256845922 best_b: 86.39531933093679, and the loss is: 326.78538172746886\n",
      "When time is : 5400, get best_k: 41.52159396522476 best_b: 86.34531933093655, and the loss is: 324.7605502583355\n",
      "When time is : 5450, get best_k: 41.20736224585732 best_b: 86.29531933093631, and the loss is: 322.7357187892016\n",
      "When time is : 5500, get best_k: 40.89313052648988 best_b: 86.24531933093607, and the loss is: 320.71088732006854\n",
      "When time is : 5550, get best_k: 40.578898807122435 best_b: 86.19531933093583, and the loss is: 318.68605585093485\n",
      "When time is : 5600, get best_k: 40.264667087754994 best_b: 86.14531933093559, and the loss is: 316.661224381801\n",
      "When time is : 5650, get best_k: 39.95043536838755 best_b: 86.09531933093535, and the loss is: 314.63639291266776\n",
      "When time is : 5700, get best_k: 39.63620364902011 best_b: 86.04531933093511, and the loss is: 312.61156144353436\n",
      "When time is : 5750, get best_k: 39.32197192965267 best_b: 85.99531933093488, and the loss is: 310.5867299744005\n",
      "When time is : 5800, get best_k: 39.00774021028523 best_b: 85.94531933093464, and the loss is: 308.56189850526687\n",
      "When time is : 5850, get best_k: 38.693508490917786 best_b: 85.8953193309344, and the loss is: 306.5370670361338\n",
      "When time is : 5900, get best_k: 38.379276771550344 best_b: 85.84531933093416, and the loss is: 304.51223556700006\n",
      "When time is : 5950, get best_k: 38.0650450521829 best_b: 85.79531933093392, and the loss is: 302.48740409786666\n",
      "When time is : 6000, get best_k: 37.75081333281546 best_b: 85.74531933093368, and the loss is: 300.4625726287329\n",
      "When time is : 6050, get best_k: 37.43658161344802 best_b: 85.69531933093344, and the loss is: 298.43774115959957\n",
      "When time is : 6100, get best_k: 37.12234989408058 best_b: 85.6453193309332, and the loss is: 296.412909690466\n",
      "When time is : 6150, get best_k: 36.80811817471314 best_b: 85.59531933093297, and the loss is: 294.3880782213324\n",
      "When time is : 6200, get best_k: 36.493886455345695 best_b: 85.54531933093273, and the loss is: 292.36324675219896\n",
      "When time is : 6250, get best_k: 36.179654735978254 best_b: 85.49531933093249, and the loss is: 290.33841528306544\n",
      "When time is : 6300, get best_k: 35.86542301661081 best_b: 85.44531933093225, and the loss is: 288.31358381393204\n",
      "When time is : 6350, get best_k: 35.55119129724337 best_b: 85.39531933093201, and the loss is: 286.28875234479824\n",
      "When time is : 6400, get best_k: 35.23695957787593 best_b: 85.34531933093177, and the loss is: 284.2639208756648\n",
      "When time is : 6450, get best_k: 34.92272785850849 best_b: 85.29531933093153, and the loss is: 282.2390894065315\n",
      "When time is : 6500, get best_k: 34.608496139141046 best_b: 85.2453193309313, and the loss is: 280.2142579373976\n",
      "When time is : 6550, get best_k: 34.294264419773604 best_b: 85.19531933093106, and the loss is: 278.1894264682642\n",
      "When time is : 6600, get best_k: 33.98003270040616 best_b: 85.14531933093082, and the loss is: 276.16459499913066\n",
      "When time is : 6650, get best_k: 33.66580098103872 best_b: 85.09531933093058, and the loss is: 274.13976352999725\n",
      "When time is : 6700, get best_k: 33.35156926167128 best_b: 85.04531933093034, and the loss is: 272.11493206086413\n",
      "When time is : 6750, get best_k: 33.03733754230384 best_b: 84.9953193309301, and the loss is: 270.09010059172977\n",
      "When time is : 6800, get best_k: 32.7231058229364 best_b: 84.94531933092986, and the loss is: 268.0652691225968\n",
      "When time is : 6850, get best_k: 32.408874103568955 best_b: 84.89531933092962, and the loss is: 266.040437653463\n",
      "When time is : 6900, get best_k: 32.094642384201514 best_b: 84.84531933092939, and the loss is: 264.0156061843292\n",
      "When time is : 6950, get best_k: 31.780410664833948 best_b: 84.79531933092915, and the loss is: 261.9907747151952\n",
      "When time is : 7000, get best_k: 31.46617894546633 best_b: 84.74531933092891, and the loss is: 259.9659432460605\n",
      "When time is : 7050, get best_k: 31.15194722609871 best_b: 84.69531933092867, and the loss is: 257.94111177692594\n",
      "When time is : 7100, get best_k: 30.83771550673109 best_b: 84.64531933092843, and the loss is: 255.91628030779094\n",
      "When time is : 7150, get best_k: 30.52348378736347 best_b: 84.59531933092819, and the loss is: 253.89144883865671\n",
      "When time is : 7200, get best_k: 30.209252067995852 best_b: 84.54531933092795, and the loss is: 251.86661736952175\n",
      "When time is : 7250, get best_k: 29.895020348628233 best_b: 84.49531933092771, and the loss is: 249.84178590038718\n",
      "When time is : 7300, get best_k: 29.580788629260613 best_b: 84.44531933092748, and the loss is: 247.8169544312527\n",
      "When time is : 7350, get best_k: 29.266556909892994 best_b: 84.39531933092724, and the loss is: 245.792122962118\n",
      "When time is : 7400, get best_k: 28.952325190525375 best_b: 84.345319330927, and the loss is: 243.76729149298316\n"
     ]
    },
    {
     "name": "stdout",
     "output_type": "stream",
     "text": [
      "When time is : 7450, get best_k: 28.638093471157756 best_b: 84.29531933092676, and the loss is: 241.74246002384862\n",
      "When time is : 7500, get best_k: 28.323861751790137 best_b: 84.24531933092652, and the loss is: 239.717628554714\n",
      "When time is : 7550, get best_k: 28.009630032422518 best_b: 84.19531933092628, and the loss is: 237.6927970855794\n",
      "When time is : 7600, get best_k: 27.6953983130549 best_b: 84.14531933092604, and the loss is: 235.6679656164446\n",
      "When time is : 7650, get best_k: 27.38116659368728 best_b: 84.0953193309258, and the loss is: 233.64313414731\n",
      "When time is : 7700, get best_k: 27.06693487431966 best_b: 84.04531933092557, and the loss is: 231.6183026781752\n",
      "When time is : 7750, get best_k: 26.75270315495204 best_b: 83.99531933092533, and the loss is: 229.593471209041\n",
      "When time is : 7800, get best_k: 26.43847143558442 best_b: 83.94531933092509, and the loss is: 227.56863973990616\n",
      "When time is : 7850, get best_k: 26.124239716216803 best_b: 83.89531933092485, and the loss is: 225.54380827077142\n",
      "When time is : 7900, get best_k: 25.810007996849183 best_b: 83.84531933092461, and the loss is: 223.5189768016366\n",
      "When time is : 7950, get best_k: 25.495776277481564 best_b: 83.79531933092437, and the loss is: 221.49414533250194\n",
      "When time is : 8000, get best_k: 25.181544558113945 best_b: 83.74531933092413, and the loss is: 219.4693138633675\n",
      "When time is : 8050, get best_k: 24.867312838746326 best_b: 83.6953193309239, and the loss is: 217.44448239423264\n",
      "When time is : 8100, get best_k: 24.553081119378707 best_b: 83.64531933092366, and the loss is: 215.41965092509807\n",
      "When time is : 8150, get best_k: 24.238849400011087 best_b: 83.59531933092342, and the loss is: 213.39481945596322\n",
      "When time is : 8200, get best_k: 23.92461768064347 best_b: 83.54531933092318, and the loss is: 211.36998798682873\n",
      "When time is : 8250, get best_k: 23.61038596127585 best_b: 83.49531933092294, and the loss is: 209.34515651769433\n",
      "When time is : 8300, get best_k: 23.29615424190823 best_b: 83.4453193309227, and the loss is: 207.32032504855917\n",
      "When time is : 8350, get best_k: 22.98192252254061 best_b: 83.39531933092246, and the loss is: 205.2954935794249\n",
      "When time is : 8400, get best_k: 22.66769080317299 best_b: 83.34531933092222, and the loss is: 203.27066211029006\n",
      "When time is : 8450, get best_k: 22.353459083805372 best_b: 83.29531933092198, and the loss is: 201.2458306411556\n",
      "When time is : 8500, get best_k: 22.039227364437753 best_b: 83.24531933092175, and the loss is: 199.22099917202107\n",
      "When time is : 8550, get best_k: 21.724995645070134 best_b: 83.1953193309215, and the loss is: 197.19616770288604\n",
      "When time is : 8600, get best_k: 21.410763925702515 best_b: 83.14531933092127, and the loss is: 195.17133623375156\n",
      "When time is : 8650, get best_k: 21.096532206334896 best_b: 83.09531933092103, and the loss is: 193.14650476461685\n",
      "When time is : 8700, get best_k: 20.782300486967276 best_b: 83.04531933092079, and the loss is: 191.12167329548237\n",
      "When time is : 8750, get best_k: 20.468068767599657 best_b: 82.99531933092055, and the loss is: 189.0968418263476\n",
      "When time is : 8800, get best_k: 20.153837048232038 best_b: 82.94531933092031, and the loss is: 187.07201035721323\n",
      "When time is : 8850, get best_k: 19.83960532886442 best_b: 82.89531933092007, and the loss is: 185.0471788880782\n",
      "When time is : 8900, get best_k: 19.5253736094968 best_b: 82.84531933091984, and the loss is: 183.02234741894392\n",
      "When time is : 8950, get best_k: 19.21114189012918 best_b: 82.7953193309196, and the loss is: 180.99751594980913\n",
      "When time is : 9000, get best_k: 18.89691017076156 best_b: 82.74531933091936, and the loss is: 178.97268448067422\n",
      "When time is : 9050, get best_k: 18.582678451393942 best_b: 82.69531933091912, and the loss is: 176.9478530115398\n",
      "When time is : 9100, get best_k: 18.268446732026323 best_b: 82.64531933091888, and the loss is: 174.923021542405\n",
      "When time is : 9150, get best_k: 17.954215012658704 best_b: 82.59531933091864, and the loss is: 172.89819007327046\n",
      "When time is : 9200, get best_k: 17.639983293291085 best_b: 82.5453193309184, and the loss is: 170.87335860413572\n",
      "When time is : 9250, get best_k: 17.325751573923466 best_b: 82.49531933091816, and the loss is: 168.84852713500106\n",
      "When time is : 9300, get best_k: 17.011519854555846 best_b: 82.44531933091793, and the loss is: 166.82369566586635\n",
      "When time is : 9350, get best_k: 16.697288135188227 best_b: 82.39531933091769, and the loss is: 164.79886419673176\n",
      "When time is : 9400, get best_k: 16.383056415820608 best_b: 82.34531933091745, and the loss is: 162.77403272759707\n",
      "When time is : 9450, get best_k: 16.06882469645299 best_b: 82.29531933091721, and the loss is: 160.74920125846262\n",
      "When time is : 9500, get best_k: 15.75459297708537 best_b: 82.24531933091697, and the loss is: 158.7243697893278\n",
      "When time is : 9550, get best_k: 15.44036125771775 best_b: 82.19531933091673, and the loss is: 156.6995383201931\n",
      "When time is : 9600, get best_k: 15.126129538350131 best_b: 82.1453193309165, and the loss is: 154.67470685105857\n",
      "When time is : 9650, get best_k: 14.811897818982512 best_b: 82.09531933091625, and the loss is: 152.6498753819238\n",
      "When time is : 9700, get best_k: 14.497666099614893 best_b: 82.04531933091602, and the loss is: 150.6250439127892\n",
      "When time is : 9750, get best_k: 14.183434380247274 best_b: 81.99531933091578, and the loss is: 148.60021244365458\n",
      "When time is : 9800, get best_k: 13.869202660879655 best_b: 81.94531933091554, and the loss is: 146.57538097451996\n",
      "When time is : 9850, get best_k: 13.554970941512035 best_b: 81.8953193309153, and the loss is: 144.55054950538542\n",
      "When time is : 9900, get best_k: 13.240739222144416 best_b: 81.84531933091506, and the loss is: 142.52571803625068\n",
      "When time is : 9950, get best_k: 12.926507502776797 best_b: 81.79531933091482, and the loss is: 140.50088656711588\n",
      "When time is : 10000, get best_k: 12.612275783409178 best_b: 81.74531933091458, and the loss is: 138.47605509798126\n",
      "When time is : 10050, get best_k: 12.298044064041559 best_b: 81.69531933091434, and the loss is: 136.45122362884678\n",
      "When time is : 10100, get best_k: 11.98381234467394 best_b: 81.6453193309141, and the loss is: 134.42639215971192\n",
      "When time is : 10150, get best_k: 11.66958062530632 best_b: 81.59531933091387, and the loss is: 132.40156069057727\n",
      "When time is : 10200, get best_k: 11.355348905938701 best_b: 81.54531933091363, and the loss is: 130.37672922144267\n",
      "When time is : 10250, get best_k: 11.041117186571082 best_b: 81.49531933091339, and the loss is: 128.351897752308\n",
      "When time is : 10300, get best_k: 10.726885467203463 best_b: 81.44531933091315, and the loss is: 126.32706628317337\n",
      "When time is : 10350, get best_k: 10.412653747835844 best_b: 81.39531933091291, and the loss is: 124.3022348140388\n",
      "When time is : 10400, get best_k: 10.098422028468224 best_b: 81.34531933091267, and the loss is: 122.27740334490413\n",
      "When time is : 10450, get best_k: 9.784190309100605 best_b: 81.29531933091243, and the loss is: 120.2525718757695\n",
      "When time is : 10500, get best_k: 9.469958589732986 best_b: 81.2453193309122, and the loss is: 118.22774040663477\n",
      "When time is : 10550, get best_k: 9.155726870365367 best_b: 81.19531933091196, and the loss is: 116.20290893750017\n",
      "When time is : 10600, get best_k: 8.841495150997748 best_b: 81.14531933091172, and the loss is: 114.17807746836549\n",
      "When time is : 10650, get best_k: 8.527263431630129 best_b: 81.09531933091148, and the loss is: 112.15324599923099\n",
      "When time is : 10700, get best_k: 8.21303171226251 best_b: 81.04531933091124, and the loss is: 110.12841453009617\n",
      "When time is : 10750, get best_k: 7.898799992894905 best_b: 80.995319330911, and the loss is: 108.1035830609615\n",
      "When time is : 10800, get best_k: 7.5845682735273305 best_b: 80.94531933091076, and the loss is: 106.07875159182728\n",
      "When time is : 10850, get best_k: 7.270336554159756 best_b: 80.89531933091052, and the loss is: 104.05392012269289\n",
      "When time is : 10900, get best_k: 6.956104834792181 best_b: 80.84531933091029, and the loss is: 102.02908865355843\n",
      "When time is : 10950, get best_k: 6.641873115424606 best_b: 80.79531933091005, and the loss is: 100.0042571844241\n"
     ]
    },
    {
     "name": "stdout",
     "output_type": "stream",
     "text": [
      "When time is : 11000, get best_k: 6.3276413960570315 best_b: 80.74531933090981, and the loss is: 97.97942571528975\n",
      "When time is : 11050, get best_k: 6.013409676689457 best_b: 80.69531933090957, and the loss is: 95.95459424615544\n",
      "When time is : 11100, get best_k: 5.699177957321882 best_b: 80.64531933090933, and the loss is: 93.92976277702103\n",
      "When time is : 11150, get best_k: 5.384946237954307 best_b: 80.59531933090909, and the loss is: 91.90493130788663\n",
      "When time is : 11200, get best_k: 5.070714518586732 best_b: 80.54531933090885, and the loss is: 89.88009983875229\n",
      "When time is : 11250, get best_k: 4.756482799219158 best_b: 80.49531933090861, and the loss is: 87.85526836961792\n",
      "When time is : 11300, get best_k: 4.442251079851583 best_b: 80.44531933090838, and the loss is: 85.83043690048346\n",
      "When time is : 11350, get best_k: 4.128019360484008 best_b: 80.39531933090814, and the loss is: 83.8056054313492\n",
      "When time is : 11400, get best_k: 3.81378764111642 best_b: 80.3453193309079, and the loss is: 81.78077396221467\n",
      "When time is : 11450, get best_k: 3.499555921748823 best_b: 80.29531933090766, and the loss is: 79.75594249308016\n",
      "When time is : 11500, get best_k: 3.185324202381226 best_b: 80.24531933090742, and the loss is: 77.7311110239457\n",
      "When time is : 11550, get best_k: 2.871092483013629 best_b: 80.19531933090718, and the loss is: 75.70627955481108\n",
      "When time is : 11600, get best_k: 2.556860763646032 best_b: 80.14531933090694, and the loss is: 73.68144808567669\n",
      "When time is : 11650, get best_k: 2.242629044278435 best_b: 80.0953193309067, and the loss is: 71.65661661654211\n",
      "When time is : 11700, get best_k: 1.9283973249108408 best_b: 80.04531933090647, and the loss is: 69.6317851474077\n",
      "When time is : 11750, get best_k: 1.614165605543255 best_b: 79.99531933090623, and the loss is: 67.60695367827327\n",
      "When time is : 11800, get best_k: 1.299933886175669 best_b: 79.94531933090599, and the loss is: 65.58212220913875\n",
      "When time is : 11850, get best_k: 0.9857021668080829 best_b: 79.89531933090575, and the loss is: 63.55729074000432\n",
      "When time is : 11900, get best_k: 0.6714704474404914 best_b: 79.84531933090551, and the loss is: 61.5324592708698\n",
      "When time is : 11950, get best_k: 0.3572387280729013 best_b: 79.79531933090527, and the loss is: 59.50762780173535\n",
      "When time is : 12000, get best_k: 0.04300700870531246 best_b: 79.74531933090503, and the loss is: 57.482796332600955\n",
      "When time is : 12050, get best_k: -0.27122471066227655 best_b: 79.6953193309048, and the loss is: 55.45796486346651\n",
      "When time is : 12100, get best_k: -0.5854564300298659 best_b: 79.64531933090456, and the loss is: 53.433133394331996\n",
      "When time is : 12150, get best_k: -0.8996881493974573 best_b: 79.59531933090432, and the loss is: 51.40830192519746\n",
      "When time is : 12200, get best_k: -1.213919868765045 best_b: 79.54531933090408, and the loss is: 49.38347045606302\n",
      "When time is : 12250, get best_k: -1.5281515881326309 best_b: 79.49531933090384, and the loss is: 47.35863898692861\n",
      "When time is : 12300, get best_k: -1.8423833075002167 best_b: 79.4453193309036, and the loss is: 45.3338075177942\n",
      "When time is : 12350, get best_k: -2.156615026867808 best_b: 79.39531933090336, and the loss is: 43.308976048659694\n",
      "When time is : 12400, get best_k: -2.470846746235405 best_b: 79.34531933090312, and the loss is: 41.28414457952518\n",
      "When time is : 12450, get best_k: -2.785078465603002 best_b: 79.29531933090288, and the loss is: 39.25931311039067\n",
      "When time is : 12500, get best_k: -3.099310184970599 best_b: 79.24531933090265, and the loss is: 37.234481641256174\n",
      "When time is : 12550, get best_k: -3.4128874142196173 best_b: 79.1953944297167, and the loss is: 35.218156390906955\n",
      "When time is : 12600, get best_k: -3.719825026867837 best_b: 79.14625608979568, and the loss is: 33.285977873014446\n",
      "When time is : 12650, get best_k: -4.013703975484437 best_b: 79.09875411351125, and the loss is: 31.51401539666072\n",
      "When time is : 12700, get best_k: -4.303391465603024 best_b: 79.05179759177209, and the loss is: 29.791606711884832\n",
      "When time is : 12750, get best_k: -4.584410520938989 best_b: 79.0059715048155, and the loss is: 28.170413912103523\n",
      "When time is : 12800, get best_k: -4.859453030820412 best_b: 78.96094383683129, and the loss is: 26.617081421067695\n",
      "When time is : 12850, get best_k: -5.128168509081267 best_b: 78.91678968663372, and the loss is: 25.13410273674359\n",
      "When time is : 12900, get best_k: -5.393247777855966 best_b: 78.87310589216743, and the loss is: 23.690599579618947\n",
      "When time is : 12950, get best_k: -5.6570011256820445 best_b: 78.82961182102146, and the loss is: 22.261536041200745\n",
      "When time is : 13000, get best_k: -5.916262497223552 best_b: 78.78675806608068, and the loss is: 20.880641285331937\n",
      "When time is : 13050, get best_k: -6.163243513033829 best_b: 78.74564739414403, and the loss is: 19.627375597246573\n",
      "When time is : 13100, get best_k: -6.397044007104973 best_b: 78.70636676173301, and the loss is: 18.5034436982729\n",
      "When time is : 13150, get best_k: -6.616397208685994 best_b: 78.66907822418354, and the loss is: 17.513336377838687\n",
      "When time is : 13200, get best_k: -6.829190793666232 best_b: 78.63270273011227, and the loss is: 16.58145989685073\n",
      "When time is : 13250, get best_k: -7.032358062440941 best_b: 78.59773830323475, and the loss is: 15.73163284535718\n",
      "When time is : 13300, get best_k: -7.223584208686013 best_b: 78.56452091193039, and the loss is: 14.978390165333867\n",
      "When time is : 13350, get best_k: -7.407426441887598 best_b: 78.53240233485528, and the loss is: 14.282009772030472\n",
      "When time is : 13400, get best_k: -7.579342109871793 best_b: 78.50205055619917, and the loss is: 13.67270553878218\n",
      "When time is : 13450, get best_k: -7.738146876670226 best_b: 78.4736513467129, and the loss is: 13.152282240226624\n",
      "When time is : 13500, get best_k: -7.88961359208525 best_b: 78.44634699888691, and the loss is: 12.678577567848368\n",
      "When time is : 13550, get best_k: -8.033447192875776 best_b: 78.4201928486893, and the loss is: 12.251218681277384\n",
      "When time is : 13600, get best_k: -8.172866465603041 best_b: 78.39471063525043, and the loss is: 11.849588635259602\n",
      "When time is : 13650, get best_k: -8.301850876670237 best_b: 78.3707857340646, and the loss is: 11.505550679760793\n",
      "When time is : 13700, get best_k: -8.415174141492358 best_b: 78.34926004236507, and the loss is: 11.23951100292654\n",
      "When time is : 13750, get best_k: -8.518789769950846 best_b: 78.3292363269501, and the loss is: 11.016708368222785\n",
      "When time is : 13800, get best_k: -8.607866394456778 best_b: 78.31148138623864, and the loss is: 10.851767453049032\n",
      "When time is : 13850, get best_k: -8.685327959674158 best_b: 78.29554462734532, and the loss is: 10.72659151059164\n",
      "When time is : 13900, get best_k: -8.75256891224334 best_b: 78.2811968012583, and the loss is: 10.632070284869855\n",
      "When time is : 13950, get best_k: -8.812901667184054 best_b: 78.26794383683134, and the loss is: 10.555678565850016\n",
      "When time is : 14000, get best_k: -8.865680884575363 best_b: 78.25588850086302, and the loss is: 10.497045131524516\n",
      "When time is : 14050, get best_k: -8.910239773903413 best_b: 78.24515332299735, and the loss is: 10.455021204078731\n",
      "When time is : 14100, get best_k: -8.950571682994322 best_b: 78.23509798702902, and the loss is: 10.420488367399424\n",
      "When time is : 14150, get best_k: -8.988355267974569 best_b: 78.22546557596192, and the loss is: 10.39004771263832\n",
      "When time is : 14200, get best_k: -9.02382524030659 best_b: 78.21622446924258, and the loss is: 10.363201726765729\n",
      "When time is : 14250, get best_k: -9.05470629564256 best_b: 78.20771458781978, and the loss is: 10.342647240098527\n",
      "When time is : 14300, get best_k: -9.082410070346103 best_b: 78.19972249295797, and the loss is: 10.326010257026912\n",
      "When time is : 14350, get best_k: -9.108127461650442 best_b: 78.19205846133735, and the loss is: 10.311600247352878\n",
      "When time is : 14400, get best_k: -9.130384520938971 best_b: 78.18495174196973, and the loss is: 10.300664106425547\n",
      "When time is : 14450, get best_k: -9.146725979436974 best_b: 78.17880549691036, and the loss is: 10.294505395616975\n",
      "When time is : 14500, get best_k: -9.159283588132626 best_b: 78.17327190007272, and the loss is: 10.290739423054672\n",
      "When time is : 14550, get best_k: -9.168414082203807 best_b: 78.16827980521111, and the loss is: 10.288575018518223\n",
      "When time is : 14600, get best_k: -9.177228015010169 best_b: 78.16333909374876, and the loss is: 10.286533097692839\n",
      "When time is : 14650, get best_k: -9.18604194781653 best_b: 78.1583983822864, and the loss is: 10.28449117686744\n"
     ]
    },
    {
     "name": "stdout",
     "output_type": "stream",
     "text": [
      "When time is : 14700, get best_k: -9.19433309801417 best_b: 78.15354462734587, and the loss is: 10.282640067074219\n",
      "When time is : 14750, get best_k: -9.20097435097859 best_b: 78.14895964710874, and the loss is: 10.281318461774568\n",
      "When time is : 14800, get best_k: -9.206114370741474 best_b: 78.14461182102167, and the loss is: 10.280411993877648\n",
      "When time is : 14850, get best_k: -9.209035588132796 best_b: 78.14062367872903, and the loss is: 10.279881371123006\n",
      "When time is : 14900, get best_k: -9.210515528844287 best_b: 78.13686873801724, and the loss is: 10.279555575037856\n",
      "When time is : 14950, get best_k: -9.211995469555777 best_b: 78.13311379730546, and the loss is: 10.279229778952708\n",
      "When time is : 15000, get best_k: -9.21249542212494 best_b: 78.12950510165308, and the loss is: 10.278957516540837\n",
      "When time is : 15050, get best_k: -9.212651054535987 best_b: 78.12594778939996, and the loss is: 10.278703942702577\n",
      "When time is : 15100, get best_k: -9.212806686947035 best_b: 78.12239047714684, and the loss is: 10.278450368864325\n",
      "When time is : 15150, get best_k: -9.212962319358082 best_b: 78.11883316489372, and the loss is: 10.27819679502605\n",
      "When time is : 15200, get best_k: -9.21311795176913 best_b: 78.1152758526406, and the loss is: 10.277943221187803\n",
      "When time is : 15250, get best_k: -9.213273584180177 best_b: 78.11171854038747, and the loss is: 10.277689647349543\n",
      "When time is : 15300, get best_k: -9.213429216591225 best_b: 78.10816122813435, and the loss is: 10.277436073511272\n",
      "When time is : 15350, get best_k: -9.213584849002272 best_b: 78.10460391588123, and the loss is: 10.277182499673016\n",
      "When time is : 15400, get best_k: -9.213276671136661 best_b: 78.1011217024424, and the loss is: 10.27693600902743\n",
      "When time is : 15450, get best_k: -9.212699971531933 best_b: 78.09768296726448, and the loss is: 10.276692854478963\n",
      "When time is : 15500, get best_k: -9.212147682994397 best_b: 78.09424027951738, and the loss is: 10.276449639252775\n",
      "When time is : 15550, get best_k: -9.211595394456861 best_b: 78.09079759177028, and the loss is: 10.276206485545956\n",
      "When time is : 15600, get best_k: -9.211043105919325 best_b: 78.08735490402319, and the loss is: 10.27596339582863\n",
      "When time is : 15650, get best_k: -9.210490817381789 best_b: 78.08391221627609, and the loss is: 10.27572030611128\n",
      "When time is : 15700, get best_k: -9.20991411777706 best_b: 78.08047348109817, and the loss is: 10.275477135541557\n",
      "When time is : 15750, get best_k: -9.209361829239525 best_b: 78.07703079335107, and the loss is: 10.275233920315388\n",
      "When time is : 15800, get best_k: -9.208809540701989 best_b: 78.07358810560397, and the loss is: 10.274990782629803\n",
      "When time is : 15850, get best_k: -9.208257252164453 best_b: 78.07014541785688, and the loss is: 10.27474769291246\n",
      "When time is : 15900, get best_k: -9.207704963626917 best_b: 78.06670273010978, and the loss is: 10.274504603195128\n",
      "When time is : 15950, get best_k: -9.207128264022188 best_b: 78.06326399493186, and the loss is: 10.274261416604178\n",
      "When time is : 16000, get best_k: -9.206575975484652 best_b: 78.05982130718476, and the loss is: 10.274018201377977\n",
      "When time is : 16050, get best_k: -9.206023686947116 best_b: 78.05637861943767, and the loss is: 10.273775079713658\n",
      "When time is : 16100, get best_k: -9.20547139840958 best_b: 78.05293593169057, and the loss is: 10.273531989996322\n",
      "When time is : 16150, get best_k: -9.204919109872044 best_b: 78.04949324394347, and the loss is: 10.273288900278994\n",
      "When time is : 16200, get best_k: -9.204342410267316 best_b: 78.04605450876555, and the loss is: 10.273045697666785\n",
      "When time is : 16250, get best_k: -9.20379012172978 best_b: 78.04261182101845, and the loss is: 10.2728024824406\n",
      "When time is : 16300, get best_k: -9.203237833192244 best_b: 78.03916913327136, and the loss is: 10.272559376797503\n",
      "When time is : 16350, get best_k: -9.202685544654708 best_b: 78.03572644552426, and the loss is: 10.27231628708018\n",
      "When time is : 16400, get best_k: -9.20210884504998 best_b: 78.03228771034634, and the loss is: 10.272073193955576\n",
      "When time is : 16450, get best_k: -9.201556556512443 best_b: 78.02884502259924, and the loss is: 10.271829978729375\n",
      "When time is : 16500, get best_k: -9.201004267974907 best_b: 78.02540233485215, and the loss is: 10.27158676359868\n",
      "When time is : 16550, get best_k: -9.200451979437371 best_b: 78.02195964710505, and the loss is: 10.271343673881352\n",
      "When time is : 16600, get best_k: -9.199899690899835 best_b: 78.01851695935795, and the loss is: 10.271100584164026\n",
      "When time is : 16650, get best_k: -9.199322991295107 best_b: 78.01507822418003, and the loss is: 10.270857475018158\n",
      "When time is : 16700, get best_k: -9.198770702757571 best_b: 78.01163553643293, and the loss is: 10.27061425979198\n",
      "When time is : 16750, get best_k: -9.198218414220035 best_b: 78.00819284868584, and the loss is: 10.270371060682553\n",
      "When time is : 16800, get best_k: -9.197666125682499 best_b: 78.00475016093874, and the loss is: 10.2701279709652\n",
      "When time is : 16850, get best_k: -9.197113837144963 best_b: 78.00130747319164, and the loss is: 10.269884881247892\n",
      "When time is : 16900, get best_k: -9.196537137540234 best_b: 77.99786873801372, and the loss is: 10.269641756080766\n",
      "When time is : 16950, get best_k: -9.195984849002699 best_b: 77.99442605026663, and the loss is: 10.26939854085458\n",
      "When time is : 17000, get best_k: -9.195432560465163 best_b: 77.99098336251953, and the loss is: 10.26915535776641\n",
      "When time is : 17050, get best_k: -9.194880271927627 best_b: 77.98754067477243, and the loss is: 10.268912268049059\n",
      "When time is : 17100, get best_k: -9.19432798339009 best_b: 77.98409798702534, and the loss is: 10.268669178331725\n",
      "When time is : 17150, get best_k: -9.193751283785362 best_b: 77.98065925184741, and the loss is: 10.268426037143362\n",
      "When time is : 17200, get best_k: -9.193198995247826 best_b: 77.97721656410032, and the loss is: 10.268182821917177\n",
      "When time is : 17250, get best_k: -9.19264670671029 best_b: 77.97377387635322, and the loss is: 10.267939654850256\n",
      "When time is : 17300, get best_k: -9.192094418172754 best_b: 77.97033118860612, and the loss is: 10.267696565132916\n",
      "When time is : 17350, get best_k: -9.191542129635218 best_b: 77.96688850085903, and the loss is: 10.267453475415586\n",
      "When time is : 17400, get best_k: -9.19096543003049 best_b: 77.9634497656811, and the loss is: 10.26721031820598\n",
      "When time is : 17450, get best_k: -9.190413141492954 best_b: 77.96000707793401, and the loss is: 10.266967102979786\n",
      "When time is : 17500, get best_k: -9.189860852955418 best_b: 77.95656439018691, and the loss is: 10.2667239519341\n",
      "When time is : 17550, get best_k: -9.189308564417882 best_b: 77.95312170243982, and the loss is: 10.266480862216762\n",
      "When time is : 17600, get best_k: -9.188756275880346 best_b: 77.94967901469272, and the loss is: 10.266237772499434\n",
      "When time is : 17650, get best_k: -9.188179576275617 best_b: 77.9462402795148, and the loss is: 10.265994599268566\n",
      "When time is : 17700, get best_k: -9.187627287738081 best_b: 77.9427975917677, and the loss is: 10.265751384042394\n",
      "When time is : 17750, get best_k: -9.187074999200545 best_b: 77.9393549040206, and the loss is: 10.26550824901796\n",
      "When time is : 17800, get best_k: -9.18652271066301 best_b: 77.93591221627351, and the loss is: 10.265265159300618\n",
      "When time is : 17850, get best_k: -9.185970422125473 best_b: 77.93246952852641, and the loss is: 10.265022069583292\n",
      "When time is : 17900, get best_k: -9.185393722520745 best_b: 77.92903079334849, and the loss is: 10.264778880331173\n",
      "When time is : 17950, get best_k: -9.184841433983209 best_b: 77.92558810560139, and the loss is: 10.264535665104997\n",
      "When time is : 18000, get best_k: -9.184289145445673 best_b: 77.9221454178543, and the loss is: 10.264292546101798\n",
      "When time is : 18050, get best_k: -9.183736856908137 best_b: 77.9187027301072, and the loss is: 10.264049456384482\n",
      "When time is : 18100, get best_k: -9.183184568370601 best_b: 77.9152600423601, and the loss is: 10.26380636666715\n",
      "When time is : 18150, get best_k: -9.182607868765873 best_b: 77.91182130718218, and the loss is: 10.263563161393776\n",
      "When time is : 18200, get best_k: -9.182055580228337 best_b: 77.90837861943508, and the loss is: 10.263319946167607\n",
      "When time is : 18250, get best_k: -9.1815032916908 best_b: 77.90493593168799, and the loss is: 10.263076843185658\n",
      "When time is : 18300, get best_k: -9.180951003153265 best_b: 77.90149324394089, and the loss is: 10.262833753468334\n",
      "When time is : 18350, get best_k: -9.180374303548536 best_b: 77.89805450876297, and the loss is: 10.26259065768257\n",
      "When time is : 18400, get best_k: -9.179822015011 best_b: 77.89461182101587, and the loss is: 10.262347442456385\n",
      "When time is : 18450, get best_k: -9.179269726473464 best_b: 77.89116913326878, and the loss is: 10.26210422998684\n"
     ]
    },
    {
     "name": "stdout",
     "output_type": "stream",
     "text": [
      "When time is : 18500, get best_k: -9.178717437935928 best_b: 77.88772644552168, and the loss is: 10.261861140269499\n",
      "When time is : 18550, get best_k: -9.178165149398392 best_b: 77.88428375777458, and the loss is: 10.261618050552173\n",
      "When time is : 18600, get best_k: -9.177588449793664 best_b: 77.88084502259666, and the loss is: 10.261374938745167\n",
      "When time is : 18650, get best_k: -9.177036161256128 best_b: 77.87740233484956, and the loss is: 10.261131723518986\n",
      "When time is : 18700, get best_k: -9.176483872718592 best_b: 77.87395964710247, and the loss is: 10.260888527070694\n",
      "When time is : 18750, get best_k: -9.175931584181056 best_b: 77.87051695935537, and the loss is: 10.260645437353368\n",
      "When time is : 18800, get best_k: -9.17537929564352 best_b: 77.86707427160827, and the loss is: 10.260402347636024\n",
      "When time is : 18850, get best_k: -9.174802596038791 best_b: 77.86363553643035, and the loss is: 10.260159219807775\n",
      "When time is : 18900, get best_k: -9.174250307501255 best_b: 77.86019284868325, and the loss is: 10.259916004581592\n",
      "When time is : 18950, get best_k: -9.17369801896372 best_b: 77.85675016093616, and the loss is: 10.259672824154551\n",
      "When time is : 19000, get best_k: -9.173145730426183 best_b: 77.85330747318906, and the loss is: 10.259429734437221\n",
      "When time is : 19050, get best_k: -9.172593441888647 best_b: 77.84986478544197, and the loss is: 10.259186644719891\n",
      "When time is : 19100, get best_k: -9.172016742283919 best_b: 77.84642605026404, and the loss is: 10.25894350087037\n",
      "When time is : 19150, get best_k: -9.171464453746383 best_b: 77.84298336251695, and the loss is: 10.258700285644194\n",
      "When time is : 19200, get best_k: -9.170912165208847 best_b: 77.83954067476985, and the loss is: 10.258457121238395\n",
      "When time is : 19250, get best_k: -9.170359876671311 best_b: 77.83609798702275, and the loss is: 10.258214031521069\n",
      "When time is : 19300, get best_k: -9.169807588133775 best_b: 77.83265529927566, and the loss is: 10.257970941803743\n",
      "When time is : 19350, get best_k: -9.169230888529047 best_b: 77.82921656409773, and the loss is: 10.257727781932973\n",
      "When time is : 19400, get best_k: -9.16867859999151 best_b: 77.82577387635064, and the loss is: 10.25748456670679\n",
      "When time is : 19450, get best_k: -9.168126311453975 best_b: 77.82233118860354, and the loss is: 10.25724141832224\n",
      "When time is : 19500, get best_k: -9.167574022916439 best_b: 77.81888850085645, and the loss is: 10.256998328604906\n",
      "When time is : 19550, get best_k: -9.167021734378903 best_b: 77.81544581310935, and the loss is: 10.256755238887587\n",
      "When time is : 19600, get best_k: -9.166445034774174 best_b: 77.81200707793143, and the loss is: 10.25651206299558\n",
      "When time is : 19650, get best_k: -9.165892746236638 best_b: 77.80856439018433, and the loss is: 10.256268847769393\n",
      "When time is : 19700, get best_k: -9.165340457699102 best_b: 77.80512170243723, and the loss is: 10.256025715406116\n",
      "When time is : 19750, get best_k: -9.164788169161566 best_b: 77.80167901469014, and the loss is: 10.255782625688775\n",
      "When time is : 19800, get best_k: -9.16423588062403 best_b: 77.79823632694304, and the loss is: 10.255539535971439\n",
      "When time is : 19850, get best_k: -9.163659181019302 best_b: 77.79479759176512, and the loss is: 10.255296344058188\n",
      "When time is : 19900, get best_k: -9.163106892481766 best_b: 77.79135490401802, and the loss is: 10.255053128831996\n",
      "When time is : 19950, get best_k: -9.16255460394423 best_b: 77.78791221627093, and the loss is: 10.254810012489973\n"
     ]
    }
   ],
   "source": [
    "import random\n",
    "trying_times = 20000\n",
    "\n",
    "X, y = data['data'], data['target']\n",
    "\n",
    "min_loss = float('inf') \n",
    "\n",
    "current_k = random.random() * 200 - 100\n",
    "current_b = random.random() * 200 - 100\n",
    "\n",
    "learning_rate = 1e-03\n",
    "\n",
    "\n",
    "update_time = 0\n",
    "\n",
    "for i in range(trying_times):\n",
    "    \n",
    "    price_by_k_and_b = [price(r, current_k, current_b) for r in X_rm]\n",
    "    \n",
    "    current_loss = loss(y, price_by_k_and_b)\n",
    "\n",
    "    if current_loss < min_loss: # performance became better\n",
    "        min_loss = current_loss\n",
    "        best_k, best_b = current_k, current_b\n",
    "        \n",
    "        if i % 50 == 0: \n",
    "            print('When time is : {}, get best_k: {} best_b: {}, and the loss is: {}'.format(i, best_k, best_b, min_loss))\n",
    "\n",
    "    k_gradient,b_gradient = gradient(X_rm, y, price_by_k_and_b)\n",
    "\n",
    "    \n",
    "    current_k = current_k + (-1 * k_gradient) * learning_rate\n",
    "\n",
    "    current_b = current_b + (-1 * b_gradient) * learning_rate\n"
   ]
  },
  {
   "cell_type": "code",
   "execution_count": 17,
   "metadata": {},
   "outputs": [
    {
     "data": {
      "text/plain": [
       "<matplotlib.collections.PathCollection at 0x297856ea588>"
      ]
     },
     "execution_count": 17,
     "metadata": {},
     "output_type": "execute_result"
    },
    {
     "data": {
      "image/png": "[encoded data removed]",
      "text/plain": [
       "<Figure size 432x288 with 1 Axes>"
      ]
     },
     "metadata": {},
     "output_type": "display_data"
    }
   ],
   "source": [
    "X_rm = X[:, 5]\n",
    "k = 13.654376019728504\n",
    "b = -63.08274310151789\n",
    "price_by_random_k_and_b = [price(r, k, b) for r in X_rm]\n",
    "\n",
    "draw_rm_and_price()\n",
    "plt.scatter(X_rm, price_by_random_k_and_b)"
   ]
  },
  {
   "cell_type": "markdown",
   "metadata": {},
   "source": [
    "## Edit Distance"
   ]
  },
  {
   "cell_type": "code",
   "execution_count": 18,
   "metadata": {
    "collapsed": true
   },
   "outputs": [],
   "source": [
    "solution1 = {}"
   ]
  },
  {
   "cell_type": "code",
   "execution_count": 19,
   "metadata": {
    "collapsed": true
   },
   "outputs": [],
   "source": [
    "from functools import lru_cache"
   ]
  },
  {
   "cell_type": "code",
   "execution_count": 20,
   "metadata": {},
   "outputs": [],
   "source": [
    "@lru_cache(maxsize=2**10)\n",
    "def edit_distance(string1, string2):    \n",
    "    if len(string1) == 0: \n",
    "#         candidates = [(edit_distance(string1, string2[:-1]) + 1, 'ADD {}'.format(tail_s2))]\n",
    "        return len(string2)\n",
    "    if len(string2) == 0: \n",
    "#         candidates = [(edit_distance(string2, string1[:-1]) + 1, 'ADD {}'.format(tail_s1))]\n",
    "        return len(string1)    \n",
    "    tail_s1 = string1[-1]\n",
    "\n",
    "    tail_s2 = string2[-1]\n",
    "\n",
    "    candidates = [\n",
    "        (edit_distance(string1[:-1], string2) + 1, 'DEL {}'.format(tail_s1)),  # string 1 delete tail\n",
    "        (edit_distance(string1, string2[:-1]) + 1, 'ADD {}'.format(tail_s2)),  # string 1 add tail of string2\n",
    "    ] \n",
    "  \n",
    "    if tail_s1 == tail_s2:\n",
    "        both_forward = (edit_distance(string1[:-1], string2[:-1]) + 0, '')\n",
    "    else:\n",
    "        both_forward = (edit_distance(string1[:-1], string2[:-1]) + 1, 'SUB {} => {}'.format(tail_s1, tail_s2))\n",
    "    both_forward\n",
    "    candidates.append(both_forward)\n",
    "  \n",
    "    min_distance, operation = min(candidates, key=lambda x: x[0])\n",
    "\n",
    "    solution1[(string1, string2)] = operation\n",
    "\n",
    "    return min_distance"
   ]
  },
  {
   "cell_type": "code",
   "execution_count": 21,
   "metadata": {},
   "outputs": [
    {
     "data": {
      "text/plain": [
       "1"
      ]
     },
     "execution_count": 21,
     "metadata": {},
     "output_type": "execute_result"
    }
   ],
   "source": [
    "edit_distance('CABC','ABC')"
   ]
  },
  {
   "cell_type": "code",
   "execution_count": 22,
   "metadata": {},
   "outputs": [
    {
     "data": {
      "text/plain": [
       "{('C', 'A'): 'SUB C => A',\n",
       " ('C', 'AB'): 'ADD B',\n",
       " ('C', 'ABC'): '',\n",
       " ('CA', 'A'): '',\n",
       " ('CA', 'AB'): 'ADD B',\n",
       " ('CA', 'ABC'): 'DEL A',\n",
       " ('CAB', 'A'): 'DEL B',\n",
       " ('CAB', 'AB'): '',\n",
       " ('CAB', 'ABC'): 'ADD C',\n",
       " ('CABC', 'A'): 'DEL C',\n",
       " ('CABC', 'AB'): 'DEL C',\n",
       " ('CABC', 'ABC'): ''}"
      ]
     },
     "execution_count": 22,
     "metadata": {},
     "output_type": "execute_result"
    }
   ],
   "source": [
    "solution1"
   ]
  },
  {
   "cell_type": "code",
   "execution_count": 23,
   "metadata": {},
   "outputs": [],
   "source": [
    "\n",
    "def parser_solution(string1,string2):\n",
    "    \n",
    "#     solution = {}\n",
    "    \n",
    "    distance = edit_distance(string1,string2)\n",
    "    solution = solution1\n",
    "    \n",
    "    def steps(string1,string2,solution):\n",
    "    \n",
    "        if (string1 == string2):\n",
    "             return ()\n",
    "        if solution[(string1, string2)] == '':\n",
    "            return steps(string1[:-1],string2[:-1],solution)\n",
    "        if solution[(string1, string2)][:3] == 'SUB':\n",
    "            return steps(string1[:-1],string2[:-1],solution) + (solution[(string1,string2)],)        \n",
    "        if solution[(string1, string2)] [:3] == 'ADD':\n",
    "            return steps(string1,string2[:-1],solution) + (solution[(string1,string2)],)\n",
    "        if solution[(string1, string2)] [:3] == 'DEL':\n",
    "            return steps(string1[:-1],string2,solution) + (solution[(string1,string2)],)                      \n",
    "\n",
    "    return ('总步数：{},步骤:{}'.format(str(distance),steps(string1,string2,solution))) \n",
    "    "
   ]
  },
  {
   "cell_type": "code",
   "execution_count": 24,
   "metadata": {},
   "outputs": [
    {
     "data": {
      "text/plain": [
       "\"总步数：2,步骤:('ADD D', 'DEL D')\""
      ]
     },
     "execution_count": 24,
     "metadata": {},
     "output_type": "execute_result"
    }
   ],
   "source": [
    "parser_solution('ABCDD','ABDCD')"
   ]
  },
  {
   "cell_type": "markdown",
   "metadata": {},
   "source": [
    "还是考虑不周啊！！！\n",
    "parser_solution('CABC','AB')会报错"
   ]
  },
  {
   "cell_type": "code",
   "execution_count": 29,
   "metadata": {
    "collapsed": true
   },
   "outputs": [],
   "source": [
    "def parser_solution(string1,string2):\n",
    "    solution = {}\n",
    "    distance = edit_distance(string1,string2)\n",
    "    solution = solution1\n",
    "    def steps(string1,string2,solution):\n",
    "        \n",
    "        if (string1 == string2):\n",
    "            return ()\n",
    "        if string2 == '':\n",
    "            solution[(string1,string2)] =  'DEL {}'.format(string1[-1])\n",
    "            return steps(string1[:-1],string2,solution) + (solution[(string1,string2)],)\n",
    "        if string1 == '':\n",
    "            solution[(string1,string2)] =  'ADD {}'.format(string2[-1])\n",
    "            return steps(string1,string2[:-1],solution) + (solution[(string1,string2)],)        \n",
    "        if solution[(string1, string2)] == '':\n",
    "            return steps(string1[:-1],string2[:-1],solution)\n",
    "        if solution[(string1, string2)][:3] == 'SUB':\n",
    "            return steps(string1[:-1],string2[:-1],solution) + (solution[(string1,string2)],)        \n",
    "        if solution[(string1, string2)] [:3] == 'ADD':\n",
    "            return steps(string1,string2[:-1],solution) + (solution[(string1,string2)],)\n",
    "        if solution[(string1, string2)] [:3] == 'DEL':\n",
    "            return steps(string1[:-1],string2,solution) + (solution[(string1,string2)],)                      \n",
    "    \n",
    "    return ('总步数：{},步骤:{}'.format(str(distance),steps(string1,string2,solution)))   "
   ]
  },
  {
   "cell_type": "code",
   "execution_count": 30,
   "metadata": {},
   "outputs": [
    {
     "data": {
      "text/plain": [
       "\"总步数：2,步骤:('DEL C', 'DEL C')\""
      ]
     },
     "execution_count": 30,
     "metadata": {},
     "output_type": "execute_result"
    }
   ],
   "source": [
    "parser_solution('CABC','AB')"
   ]
  },
  {
   "cell_type": "code",
   "execution_count": null,
   "metadata": {
    "collapsed": true
   },
   "outputs": [],
   "source": []
  }
 ],
 "metadata": {
  "kernelspec": {
   "display_name": "Python 3",
   "language": "python",
   "name": "python3"
  },
  "language_info": {
   "codemirror_mode": {
    "name": "ipython",
    "version": 3
   },
   "file_extension": ".py",
   "mimetype": "text/x-python",
   "name": "python",
   "nbconvert_exporter": "python",
   "pygments_lexer": "ipython3",
   "version": "3.6.2"
  }
 },
 "nbformat": 4,
 "nbformat_minor": 2
}
